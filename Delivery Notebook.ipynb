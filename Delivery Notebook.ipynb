{
 "cells": [
  {
   "cell_type": "code",
   "execution_count": 1,
   "id": "ee20eee3",
   "metadata": {},
   "outputs": [],
   "source": [
    "## Importing Required Libraries\n",
    "\n",
    "from typing import Any, Tuple\n",
    "import numpy as np"
   ]
  },
  {
   "cell_type": "code",
   "execution_count": 2,
   "id": "2e82abe7",
   "metadata": {},
   "outputs": [],
   "source": [
    "## Defining a normalize Function\n",
    "\n",
    "def normalize(u: np.ndarray) -> np.ndarray:\n",
    "    \"\"\"\n",
    "    Normalize a vector u with respect to itself\n",
    "    :param u: (np.ndarray) Input vector\n",
    "    :return: Normalized vector\n",
    "    \"\"\"\n",
    "    return u / np.sum(u, axis=0, keepdims=True)\n"
   ]
  },
  {
   "cell_type": "code",
   "execution_count": 3,
   "id": "7d5b2354",
   "metadata": {},
   "outputs": [],
   "source": [
    "## Defining a Distance Function\n",
    "\n",
    "def distance(u: np.ndarray, v: np.ndarray) -> float:\n",
    "    \"\"\"\n",
    "    Calculate the euclidean distance between two vectors u and v\n",
    "    :param u: (np.ndarray) First input vector\n",
    "    :param v: (np.ndarray) Second input vector\n",
    "    :return: (np.ndarray) Euclidean distance\n",
    "    \"\"\"\n",
    "    v = np.expand_dims(np.transpose(v), 0)\n",
    "    u = np.expand_dims(u, 2)\n",
    "\n",
    "    return np.sqrt(np.sum((u - v) ** 2, axis=1))"
   ]
  },
  {
   "cell_type": "code",
   "execution_count": 4,
   "id": "60071003",
   "metadata": {},
   "outputs": [],
   "source": [
    "## Creating a Clustering Class\n",
    "\n",
    "class CMeansClustering:\n",
    "    def __init__(self, n_clusters: int, error: float = 1e-4, max_iters: int = 200):\n",
    "        \"\"\"\n",
    "        Constructor of C-Means Clustering\n",
    "        :param n_clusters: (int) Number of clusters\n",
    "        :param error: (float) Stop condition\n",
    "        :param max_iters: (int) Total iteration number\n",
    "        \"\"\"\n",
    "        self._n_clusters = n_clusters\n",
    "        self._error = error\n",
    "        self._max_iters = max_iters\n",
    "\n",
    "        self._fuzzy_index = None\n",
    "        self._fitted = None\n",
    "        self._center = None\n",
    "        self._train_u = None\n",
    "        self._variance = None\n",
    "        self._losses = None\n",
    "        self._dimensions = None\n",
    "\n",
    "    @property\n",
    "    def center(self) -> np.ndarray:\n",
    "        assert self._fitted, 'You need to fit the clustering algorithm first!'\n",
    "\n",
    "        return self._center\n",
    "\n",
    "    @property\n",
    "    def delta(self) -> np.ndarray:\n",
    "        assert self._fitted, 'You need to fit the clustering algorithm first!'\n",
    "\n",
    "        return self._variance\n",
    "\n",
    "    def fit(self, x: np.ndarray, y: np.ndarray = None) -> Any:\n",
    "        \"\"\"\n",
    "        Fit a set of measurements to the model\n",
    "        :param x: (np.ndarray) Vector with inputs\n",
    "        :param y: (np.array) Vector with measurements\n",
    "        :return: (CMeansClustering) self\n",
    "        \"\"\"\n",
    "        if min(x.shape[0], x.shape[1] - 1) >= 3:\n",
    "            self._fuzzy_index = min(x.shape[0], x.shape[1] - 1) / (min(x.shape[0], x.shape[1] - 1) - 2)\n",
    "        else:\n",
    "            self._fuzzy_index = 2\n",
    "\n",
    "        n = x.shape[0]\n",
    "        self._dimensions = x.shape[1]\n",
    "\n",
    "        u = np.random.rand(self._n_clusters, n)\n",
    "\n",
    "        self._losses = []\n",
    "\n",
    "        for t in range(self._max_iters):\n",
    "            u, v, loss, signal = self._update(x, u)\n",
    "            self._losses.append(loss)\n",
    "            print('\\titer: {} - loss: {:.4f}'.format(t, loss))\n",
    "            if signal:\n",
    "                break\n",
    "\n",
    "        self._fitted = True\n",
    "        self._center = v\n",
    "        self._train_u = u\n",
    "        self._variance = np.zeros(self._center.shape)\n",
    "\n",
    "        for i in range(self._dimensions):\n",
    "            self._variance[:, i] = np.sum(\n",
    "                u * ((x[:, i][:, np.newaxis] - self._center[:, i].transpose()) ** 2).T, axis=1\n",
    "            ) / np.sum(u, axis=1)\n",
    "\n",
    "        self._variance = np.fmax(self._variance, np.finfo(np.float64).eps)\n",
    "\n",
    "        return self\n",
    "\n",
    "    def _update(self, x: np.ndarray, u: np.ndarray) -> Tuple:\n",
    "        \"\"\"\n",
    "        Update the internal state of the model\n",
    "        :param x: (np.array) Input sample\n",
    "        :param u: (np.array) Input vector\n",
    "        :return: (Tuple) Vectors u,v and loss and signal\n",
    "        \"\"\"\n",
    "        old_u = u.copy()\n",
    "        old_u = np.fmax(old_u, np.finfo(np.float64).eps)\n",
    "        old_u_prev = old_u.copy()\n",
    "\n",
    "        old_u = normalize(old_u) ** self._fuzzy_index\n",
    "\n",
    "        v = np.dot(old_u, x) / old_u.sum(axis=1, keepdims=True)\n",
    "\n",
    "        dist = distance(x, v).T\n",
    "        dist = np.fmax(dist, np.finfo(np.float64).eps)\n",
    "\n",
    "        loss = (old_u * dist ** 2).sum()\n",
    "        dist = dist ** (2 / (1 - self._fuzzy_index))\n",
    "        dist = np.fmax(dist, np.finfo(np.float64).eps)\n",
    "\n",
    "        u = normalize(dist)\n",
    "        if np.linalg.norm(u - old_u_prev) < self._error:\n",
    "            signal = True\n",
    "        else:\n",
    "            signal = False\n",
    "\n",
    "        return u, v, loss, signal"
   ]
  },
  {
   "cell_type": "code",
   "execution_count": 5,
   "id": "59fe6e97",
   "metadata": {},
   "outputs": [],
   "source": [
    "## Importing Required Libraries\n",
    "\n",
    "from scipy.special import softmax\n",
    "from sklearn.linear_model import LogisticRegression"
   ]
  },
  {
   "cell_type": "code",
   "execution_count": 6,
   "id": "bcca9686",
   "metadata": {},
   "outputs": [],
   "source": [
    "## Defining a new Function\n",
    "\n",
    "def compute_firing_level(data: np.ndarray, centers: int, delta: float) -> np.ndarray:\n",
    "    \"\"\"\n",
    "    Compute firing strength using Gaussian model\n",
    "    :param data: n_Samples * n_Features\n",
    "    :param centers: data center，n_Clusters * n_Features\n",
    "    :param delta: variance of each feature， n_Clusters * n_Features\n",
    "    :return: firing strength\n",
    "    \"\"\"\n",
    "    d = -(np.expand_dims(data, axis=2) - np.expand_dims(centers.T, axis=0)) ** 2 / (2 * delta.T)\n",
    "    d = np.exp(np.sum(d, axis=1))\n",
    "    d = np.fmax(d, np.finfo(np.float64).eps)\n",
    "    return d / np.sum(d, axis=1, keepdims=True)\n"
   ]
  },
  {
   "cell_type": "code",
   "execution_count": 7,
   "id": "04e8cfe2",
   "metadata": {},
   "outputs": [],
   "source": [
    "## Defining another Function\n",
    "\n",
    "def apply_firing_level(x: np.ndarray, firing_levels: np.ndarray, order: int = 1) -> np.ndarray:\n",
    "    \"\"\"\n",
    "    Convert raw input to tsk input, based on the provided firing levels\n",
    "    :param x: (np.ndarray) Raw input\n",
    "    :param firing_levels: (np.ndarray) Firing level for each rule\n",
    "    :param order: (int) TSK order. Valid values are 0 and 1\n",
    "    :return:\n",
    "    \"\"\"\n",
    "    if order == 0:\n",
    "        return firing_levels\n",
    "    else:\n",
    "        n = x.shape[0]\n",
    "        firing_levels = np.expand_dims(firing_levels, axis=1)\n",
    "        x = np.expand_dims(np.concatenate((x, np.ones([n, 1])), axis=1), axis=2)\n",
    "        x = np.repeat(x, repeats=firing_levels.shape[1], axis=2)\n",
    "        output = x * firing_levels\n",
    "        output = output.reshape([n, -1])\n",
    "\n",
    "        return output"
   ]
  },
  {
   "cell_type": "code",
   "execution_count": 8,
   "id": "0e4a778d",
   "metadata": {},
   "outputs": [],
   "source": [
    "## Creating a class of takagi_sugeno_kang_fuzzy_system\n",
    "\n",
    "class Classifier:\n",
    "    def __init__(self, c: float = 1., max_iters: int = 200, n_cluster: int = 2, order: int = 1):\n",
    "        \"\"\"\n",
    "        Fuzzy classifier class\n",
    "        :param c: (float) c-coefficient for linear regressor estimator\n",
    "        :param max_iters: (int) max iters for logistic regression fitting\n",
    "        :param n_cluster: (int) Number of clusters\n",
    "        :param order: (int) Order of the method. Valid values are 0 or 1\n",
    "        \"\"\"\n",
    "        self._c = c\n",
    "        self._max_iters = max_iters\n",
    "        self._n_clusters = n_cluster\n",
    "        self._order = order\n",
    "\n",
    "        self._n_classes = None\n",
    "        self._center = None\n",
    "        self._variance = None\n",
    "        self._regression = None\n",
    "\n",
    "    def fit(self, x: np.ndarray, y: np.ndarray) -> Any:\n",
    "        \"\"\"\n",
    "        Fit a set of measurements to the model\n",
    "        :param x: (np.ndarray) Vector with inputs\n",
    "        :param y: (np.array) Vector with measurements\n",
    "        :return: (Classifier) self\n",
    "        \"\"\"\n",
    "        self._n_classes = len(np.unique(y))\n",
    "\n",
    "        cluster = CMeansClustering(self._n_clusters).fit(x, y)\n",
    "\n",
    "        self._center = cluster.center\n",
    "        self._variance = cluster.delta\n",
    "\n",
    "        mu_a = compute_firing_level(x, self._center, self._variance)\n",
    "        computed_input = apply_firing_level(x, mu_a, self._order)\n",
    "\n",
    "        self._regression = LogisticRegression(C=self._c, max_iter=self._max_iters)\n",
    "        self._regression.fit(computed_input, y)\n",
    "\n",
    "        return self\n",
    "\n",
    "    def predict(self, x: np.ndarray) -> np.ndarray:\n",
    "        \"\"\"\n",
    "        Predict to which class a given set of inputs belongs\n",
    "        :param x: (np.ndarray) Input vector\n",
    "        :return: (np.ndarray) Output vector with predicted classes\n",
    "        \"\"\"\n",
    "        firing_levels = compute_firing_level(x, self._center, self._variance)\n",
    "\n",
    "        computed_input = apply_firing_level(x, firing_levels, self._order)\n",
    "\n",
    "        logits = self._regression.decision_function(computed_input)\n",
    "\n",
    "        return np.argmax(softmax(logits, axis=1), axis=1)"
   ]
  },
  {
   "cell_type": "code",
   "execution_count": 9,
   "id": "78a76ec4",
   "metadata": {},
   "outputs": [],
   "source": [
    "## Importing more required Libraries\n",
    "\n",
    "from sklearn.metrics import accuracy_score\n",
    "from sklearn.utils import shuffle\n",
    "from sklearn import datasets\n",
    "from sklearn.model_selection import train_test_split\n",
    "import skfuzzy as fuzz\n",
    "from skfuzzy import control as ctrl\n",
    "import warnings \n",
    "warnings.simplefilter('ignore')"
   ]
  },
  {
   "cell_type": "code",
   "execution_count": 10,
   "id": "38545ffc",
   "metadata": {},
   "outputs": [],
   "source": [
    "## Defining a main function to fit the takagi_sugeno_kang_fuzzy_system\n",
    "\n",
    "def main():\n",
    "    \"\"\"Entry point of the application\"\"\"\n",
    "    # Loading the IRIS data\n",
    "    iris = datasets.load_iris()\n",
    "\n",
    "    # Selecting features and labels\n",
    "    x = iris.data\n",
    "    y = iris.target\n",
    "\n",
    "    # prepare train/test split\n",
    "    x_train, x_test, y_train, y_test = train_test_split(x,y, test_size=0.2, random_state=42)\n",
    "\n",
    "    print(f'Number of training samples: {len(x_train)}')\n",
    "    print(f'Number of test samples: {len(x_test)}')\n",
    "\n",
    "    # fit the fuzzy classifier\n",
    "    cls = Classifier()\n",
    "\n",
    "    print('Fitting classifier to data:')\n",
    "\n",
    "    cls.fit(x_train, y_train)\n",
    "\n",
    "    # predict\n",
    "    y_pred = cls.predict(x_test)\n",
    "    print(f'Predicting unseen data: {y_pred}')\n",
    "\n",
    "    accuracy = accuracy_score(y_test, y_pred)\n",
    "    print(f'accuracy: {accuracy}')\n"
   ]
  },
  {
   "cell_type": "code",
   "execution_count": 11,
   "id": "630cd90f",
   "metadata": {},
   "outputs": [],
   "source": [
    "## Creating Variables\n",
    "sepal_length = np.arange(4.3, 8.0, 0.1)\n",
    "sepal_width = np.arange(2.0, 4.5, 0.1)\n",
    "petal_length = np.arange(1.0, 7.0, 0.1)\n",
    "petal_width = np.arange(0.1, 2.6, 0.1)"
   ]
  },
  {
   "cell_type": "code",
   "execution_count": 12,
   "id": "4ebe51c0",
   "metadata": {},
   "outputs": [],
   "source": [
    "## Defining the input variables\n",
    "seplen = ctrl.Antecedent(sepal_length, 'Sepal Length')\n",
    "sepwid = ctrl.Antecedent(sepal_width, 'Sepal Width')\n",
    "petlen = ctrl.Antecedent(petal_length, 'Petal Length')\n",
    "petwid = ctrl.Antecedent(petal_width, 'Petal Width')"
   ]
  },
  {
   "cell_type": "code",
   "execution_count": 13,
   "id": "faf172da",
   "metadata": {},
   "outputs": [],
   "source": [
    "## Creating Fuzzy sets for Sepal Length\n",
    "seplen['Short'] = fuzz.trimf(seplen.universe, [4.3, 4.3, 6.1])\n",
    "seplen['Medium'] = fuzz.trimf(seplen.universe, [4.3,6.1,7.9])\n",
    "seplen['Long'] = fuzz.trimf(seplen.universe, [6.1,7.9,7.9])"
   ]
  },
  {
   "cell_type": "code",
   "execution_count": 14,
   "id": "503e603d",
   "metadata": {},
   "outputs": [
    {
     "data": {
      "image/png": "[encoded data removed]",
      "text/plain": [
       "<Figure size 432x288 with 1 Axes>"
      ]
     },
     "metadata": {
      "needs_background": "light"
     },
     "output_type": "display_data"
    }
   ],
   "source": [
    "## Membership Function graph for Sepal Length\n",
    "seplen.view()"
   ]
  },
  {
   "cell_type": "code",
   "execution_count": 15,
   "id": "a654bd87",
   "metadata": {},
   "outputs": [],
   "source": [
    "## Creating Fuzzy sets for Sepal width\n",
    "sepwid['Narrow'] = fuzz.trimf(sepwid.universe, [2, 2, 3.2])\n",
    "sepwid['Medium'] = fuzz.trimf(sepwid.universe, [2,3.2,4.4])\n",
    "sepwid['Wide'] = fuzz.trimf(sepwid.universe, [3.2,4.4,4.4])"
   ]
  },
  {
   "cell_type": "code",
   "execution_count": 16,
   "id": "de36a94d",
   "metadata": {},
   "outputs": [
    {
     "data": {
      "image/png": "[encoded data removed]",
      "text/plain": [
       "<Figure size 432x288 with 1 Axes>"
      ]
     },
     "metadata": {
      "needs_background": "light"
     },
     "output_type": "display_data"
    }
   ],
   "source": [
    "## Membership Function graph for Sepal Width\n",
    "sepwid.view()"
   ]
  },
  {
   "cell_type": "code",
   "execution_count": 17,
   "id": "95711f8e",
   "metadata": {},
   "outputs": [],
   "source": [
    "## Creating Fuzzy sets for Petal Length\n",
    "petlen['Short'] = fuzz.trimf(petlen.universe, [1, 1, 3.95])\n",
    "petlen['Medium'] = fuzz.trimf(petlen.universe, [1,3.95,6.9])\n",
    "petlen['Long'] = fuzz.trimf(petlen.universe, [3.95,6.9,6.9])"
   ]
  },
  {
   "cell_type": "code",
   "execution_count": 18,
   "id": "ad203aab",
   "metadata": {},
   "outputs": [
    {
     "data": {
      "image/png": "[encoded data removed]",
      "text/plain": [
       "<Figure size 432x288 with 1 Axes>"
      ]
     },
     "metadata": {
      "needs_background": "light"
     },
     "output_type": "display_data"
    }
   ],
   "source": [
    "## Membership Function graph for Petal Length\n",
    "petlen.view()"
   ]
  },
  {
   "cell_type": "code",
   "execution_count": 19,
   "id": "dd5a101c",
   "metadata": {},
   "outputs": [],
   "source": [
    "## Creating Fuzzy sets for Petal width\n",
    "petwid['Narrow'] = fuzz.trimf(petwid.universe, [0.1, 0.1, 1.3])\n",
    "petwid['Medium'] = fuzz.trimf(petwid.universe, [0.1,1.3,2.5])\n",
    "petwid['Wide'] = fuzz.trimf(petwid.universe, [1.3,2.5,2.5])"
   ]
  },
  {
   "cell_type": "code",
   "execution_count": 20,
   "id": "842d87cf",
   "metadata": {},
   "outputs": [
    {
     "data": {
      "image/png": "[encoded data removed]",
      "text/plain": [
       "<Figure size 432x288 with 1 Axes>"
      ]
     },
     "metadata": {
      "needs_background": "light"
     },
     "output_type": "display_data"
    }
   ],
   "source": [
    "## Membership Function graph for Petal Width\n",
    "petwid.view()"
   ]
  },
  {
   "cell_type": "code",
   "execution_count": 21,
   "id": "a49498ee",
   "metadata": {},
   "outputs": [
    {
     "name": "stdout",
     "output_type": "stream",
     "text": [
      "Number of training samples: 120\n",
      "Number of test samples: 30\n",
      "Fitting classifier to data:\n",
      "\titer: 0 - loss: 210.3540\n",
      "\titer: 1 - loss: 130.3311\n",
      "\titer: 2 - loss: 115.9898\n",
      "\titer: 3 - loss: 85.3801\n",
      "\titer: 4 - loss: 67.4678\n",
      "\titer: 5 - loss: 65.6775\n",
      "\titer: 6 - loss: 65.5986\n",
      "\titer: 7 - loss: 65.5926\n",
      "\titer: 8 - loss: 65.5919\n",
      "\titer: 9 - loss: 65.5918\n",
      "\titer: 10 - loss: 65.5918\n",
      "\titer: 11 - loss: 65.5918\n",
      "\titer: 12 - loss: 65.5918\n",
      "Predicting unseen data: [1 0 2 1 1 0 1 2 1 1 2 0 0 0 0 1 2 1 1 2 0 2 0 2 2 2 2 2 0 0]\n",
      "accuracy: 1.0\n"
     ]
    }
   ],
   "source": [
    "## Calling the main Function to get output\n",
    "main()"
   ]
  },
  {
   "cell_type": "code",
   "execution_count": 22,
   "id": "66454ed1",
   "metadata": {},
   "outputs": [],
   "source": [
    "## Notebook Ended\n",
    "## Notebook Ended\n",
    "## Notebook Ended\n",
    "## Notebook Ended\n",
    "## Notebook Ended"
   ]
  },
  {
   "cell_type": "code",
   "execution_count": null,
   "id": "11aeda07",
   "metadata": {},
   "outputs": [],
   "source": []
  }
 ],
 "metadata": {
  "kernelspec": {
   "display_name": "Python 3 (ipykernel)",
   "language": "python",
   "name": "python3"
  },
  "language_info": {
   "codemirror_mode": {
    "name": "ipython",
    "version": 3
   },
   "file_extension": ".py",
   "mimetype": "text/x-python",
   "name": "python",
   "nbconvert_exporter": "python",
   "pygments_lexer": "ipython3",
   "version": "3.9.7"
  }
 },
 "nbformat": 4,
 "nbformat_minor": 5
}
