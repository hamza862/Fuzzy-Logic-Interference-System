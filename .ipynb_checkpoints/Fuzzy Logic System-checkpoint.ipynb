{
 "cells": [
  {
   "cell_type": "code",
   "execution_count": 1,
   "id": "a108482e",
   "metadata": {},
   "outputs": [],
   "source": [
    "## Importing the required Libraries\n",
    "import numpy as np\n",
    "import pandas as pd\n",
    "import skfuzzy as fuzz\n",
    "from skfuzzy import control as ctrl\n",
    "from sklearn import datasets\n",
    "import warnings\n",
    "warnings.simplefilter('ignore')"
   ]
  },
  {
   "cell_type": "code",
   "execution_count": 2,
   "id": "d594ae24",
   "metadata": {},
   "outputs": [
    {
     "data": {
      "text/plain": [
       "{'data': array([[5.1, 3.5, 1.4, 0.2],\n",
       "        [4.9, 3. , 1.4, 0.2],\n",
       "        [4.7, 3.2, 1.3, 0.2],\n",
       "        [4.6, 3.1, 1.5, 0.2],\n",
       "        [5. , 3.6, 1.4, 0.2],\n",
       "        [5.4, 3.9, 1.7, 0.4],\n",
       "        [4.6, 3.4, 1.4, 0.3],\n",
       "        [5. , 3.4, 1.5, 0.2],\n",
       "        [4.4, 2.9, 1.4, 0.2],\n",
       "        [4.9, 3.1, 1.5, 0.1],\n",
       "        [5.4, 3.7, 1.5, 0.2],\n",
       "        [4.8, 3.4, 1.6, 0.2],\n",
       "        [4.8, 3. , 1.4, 0.1],\n",
       "        [4.3, 3. , 1.1, 0.1],\n",
       "        [5.8, 4. , 1.2, 0.2],\n",
       "        [5.7, 4.4, 1.5, 0.4],\n",
       "        [5.4, 3.9, 1.3, 0.4],\n",
       "        [5.1, 3.5, 1.4, 0.3],\n",
       "        [5.7, 3.8, 1.7, 0.3],\n",
       "        [5.1, 3.8, 1.5, 0.3],\n",
       "        [5.4, 3.4, 1.7, 0.2],\n",
       "        [5.1, 3.7, 1.5, 0.4],\n",
       "        [4.6, 3.6, 1. , 0.2],\n",
       "        [5.1, 3.3, 1.7, 0.5],\n",
       "        [4.8, 3.4, 1.9, 0.2],\n",
       "        [5. , 3. , 1.6, 0.2],\n",
       "        [5. , 3.4, 1.6, 0.4],\n",
       "        [5.2, 3.5, 1.5, 0.2],\n",
       "        [5.2, 3.4, 1.4, 0.2],\n",
       "        [4.7, 3.2, 1.6, 0.2],\n",
       "        [4.8, 3.1, 1.6, 0.2],\n",
       "        [5.4, 3.4, 1.5, 0.4],\n",
       "        [5.2, 4.1, 1.5, 0.1],\n",
       "        [5.5, 4.2, 1.4, 0.2],\n",
       "        [4.9, 3.1, 1.5, 0.2],\n",
       "        [5. , 3.2, 1.2, 0.2],\n",
       "        [5.5, 3.5, 1.3, 0.2],\n",
       "        [4.9, 3.6, 1.4, 0.1],\n",
       "        [4.4, 3. , 1.3, 0.2],\n",
       "        [5.1, 3.4, 1.5, 0.2],\n",
       "        [5. , 3.5, 1.3, 0.3],\n",
       "        [4.5, 2.3, 1.3, 0.3],\n",
       "        [4.4, 3.2, 1.3, 0.2],\n",
       "        [5. , 3.5, 1.6, 0.6],\n",
       "        [5.1, 3.8, 1.9, 0.4],\n",
       "        [4.8, 3. , 1.4, 0.3],\n",
       "        [5.1, 3.8, 1.6, 0.2],\n",
       "        [4.6, 3.2, 1.4, 0.2],\n",
       "        [5.3, 3.7, 1.5, 0.2],\n",
       "        [5. , 3.3, 1.4, 0.2],\n",
       "        [7. , 3.2, 4.7, 1.4],\n",
       "        [6.4, 3.2, 4.5, 1.5],\n",
       "        [6.9, 3.1, 4.9, 1.5],\n",
       "        [5.5, 2.3, 4. , 1.3],\n",
       "        [6.5, 2.8, 4.6, 1.5],\n",
       "        [5.7, 2.8, 4.5, 1.3],\n",
       "        [6.3, 3.3, 4.7, 1.6],\n",
       "        [4.9, 2.4, 3.3, 1. ],\n",
       "        [6.6, 2.9, 4.6, 1.3],\n",
       "        [5.2, 2.7, 3.9, 1.4],\n",
       "        [5. , 2. , 3.5, 1. ],\n",
       "        [5.9, 3. , 4.2, 1.5],\n",
       "        [6. , 2.2, 4. , 1. ],\n",
       "        [6.1, 2.9, 4.7, 1.4],\n",
       "        [5.6, 2.9, 3.6, 1.3],\n",
       "        [6.7, 3.1, 4.4, 1.4],\n",
       "        [5.6, 3. , 4.5, 1.5],\n",
       "        [5.8, 2.7, 4.1, 1. ],\n",
       "        [6.2, 2.2, 4.5, 1.5],\n",
       "        [5.6, 2.5, 3.9, 1.1],\n",
       "        [5.9, 3.2, 4.8, 1.8],\n",
       "        [6.1, 2.8, 4. , 1.3],\n",
       "        [6.3, 2.5, 4.9, 1.5],\n",
       "        [6.1, 2.8, 4.7, 1.2],\n",
       "        [6.4, 2.9, 4.3, 1.3],\n",
       "        [6.6, 3. , 4.4, 1.4],\n",
       "        [6.8, 2.8, 4.8, 1.4],\n",
       "        [6.7, 3. , 5. , 1.7],\n",
       "        [6. , 2.9, 4.5, 1.5],\n",
       "        [5.7, 2.6, 3.5, 1. ],\n",
       "        [5.5, 2.4, 3.8, 1.1],\n",
       "        [5.5, 2.4, 3.7, 1. ],\n",
       "        [5.8, 2.7, 3.9, 1.2],\n",
       "        [6. , 2.7, 5.1, 1.6],\n",
       "        [5.4, 3. , 4.5, 1.5],\n",
       "        [6. , 3.4, 4.5, 1.6],\n",
       "        [6.7, 3.1, 4.7, 1.5],\n",
       "        [6.3, 2.3, 4.4, 1.3],\n",
       "        [5.6, 3. , 4.1, 1.3],\n",
       "        [5.5, 2.5, 4. , 1.3],\n",
       "        [5.5, 2.6, 4.4, 1.2],\n",
       "        [6.1, 3. , 4.6, 1.4],\n",
       "        [5.8, 2.6, 4. , 1.2],\n",
       "        [5. , 2.3, 3.3, 1. ],\n",
       "        [5.6, 2.7, 4.2, 1.3],\n",
       "        [5.7, 3. , 4.2, 1.2],\n",
       "        [5.7, 2.9, 4.2, 1.3],\n",
       "        [6.2, 2.9, 4.3, 1.3],\n",
       "        [5.1, 2.5, 3. , 1.1],\n",
       "        [5.7, 2.8, 4.1, 1.3],\n",
       "        [6.3, 3.3, 6. , 2.5],\n",
       "        [5.8, 2.7, 5.1, 1.9],\n",
       "        [7.1, 3. , 5.9, 2.1],\n",
       "        [6.3, 2.9, 5.6, 1.8],\n",
       "        [6.5, 3. , 5.8, 2.2],\n",
       "        [7.6, 3. , 6.6, 2.1],\n",
       "        [4.9, 2.5, 4.5, 1.7],\n",
       "        [7.3, 2.9, 6.3, 1.8],\n",
       "        [6.7, 2.5, 5.8, 1.8],\n",
       "        [7.2, 3.6, 6.1, 2.5],\n",
       "        [6.5, 3.2, 5.1, 2. ],\n",
       "        [6.4, 2.7, 5.3, 1.9],\n",
       "        [6.8, 3. , 5.5, 2.1],\n",
       "        [5.7, 2.5, 5. , 2. ],\n",
       "        [5.8, 2.8, 5.1, 2.4],\n",
       "        [6.4, 3.2, 5.3, 2.3],\n",
       "        [6.5, 3. , 5.5, 1.8],\n",
       "        [7.7, 3.8, 6.7, 2.2],\n",
       "        [7.7, 2.6, 6.9, 2.3],\n",
       "        [6. , 2.2, 5. , 1.5],\n",
       "        [6.9, 3.2, 5.7, 2.3],\n",
       "        [5.6, 2.8, 4.9, 2. ],\n",
       "        [7.7, 2.8, 6.7, 2. ],\n",
       "        [6.3, 2.7, 4.9, 1.8],\n",
       "        [6.7, 3.3, 5.7, 2.1],\n",
       "        [7.2, 3.2, 6. , 1.8],\n",
       "        [6.2, 2.8, 4.8, 1.8],\n",
       "        [6.1, 3. , 4.9, 1.8],\n",
       "        [6.4, 2.8, 5.6, 2.1],\n",
       "        [7.2, 3. , 5.8, 1.6],\n",
       "        [7.4, 2.8, 6.1, 1.9],\n",
       "        [7.9, 3.8, 6.4, 2. ],\n",
       "        [6.4, 2.8, 5.6, 2.2],\n",
       "        [6.3, 2.8, 5.1, 1.5],\n",
       "        [6.1, 2.6, 5.6, 1.4],\n",
       "        [7.7, 3. , 6.1, 2.3],\n",
       "        [6.3, 3.4, 5.6, 2.4],\n",
       "        [6.4, 3.1, 5.5, 1.8],\n",
       "        [6. , 3. , 4.8, 1.8],\n",
       "        [6.9, 3.1, 5.4, 2.1],\n",
       "        [6.7, 3.1, 5.6, 2.4],\n",
       "        [6.9, 3.1, 5.1, 2.3],\n",
       "        [5.8, 2.7, 5.1, 1.9],\n",
       "        [6.8, 3.2, 5.9, 2.3],\n",
       "        [6.7, 3.3, 5.7, 2.5],\n",
       "        [6.7, 3. , 5.2, 2.3],\n",
       "        [6.3, 2.5, 5. , 1.9],\n",
       "        [6.5, 3. , 5.2, 2. ],\n",
       "        [6.2, 3.4, 5.4, 2.3],\n",
       "        [5.9, 3. , 5.1, 1.8]]),\n",
       " 'target': array([0, 0, 0, 0, 0, 0, 0, 0, 0, 0, 0, 0, 0, 0, 0, 0, 0, 0, 0, 0, 0, 0,\n",
       "        0, 0, 0, 0, 0, 0, 0, 0, 0, 0, 0, 0, 0, 0, 0, 0, 0, 0, 0, 0, 0, 0,\n",
       "        0, 0, 0, 0, 0, 0, 1, 1, 1, 1, 1, 1, 1, 1, 1, 1, 1, 1, 1, 1, 1, 1,\n",
       "        1, 1, 1, 1, 1, 1, 1, 1, 1, 1, 1, 1, 1, 1, 1, 1, 1, 1, 1, 1, 1, 1,\n",
       "        1, 1, 1, 1, 1, 1, 1, 1, 1, 1, 1, 1, 2, 2, 2, 2, 2, 2, 2, 2, 2, 2,\n",
       "        2, 2, 2, 2, 2, 2, 2, 2, 2, 2, 2, 2, 2, 2, 2, 2, 2, 2, 2, 2, 2, 2,\n",
       "        2, 2, 2, 2, 2, 2, 2, 2, 2, 2, 2, 2, 2, 2, 2, 2, 2, 2]),\n",
       " 'frame': None,\n",
       " 'target_names': array(['setosa', 'versicolor', 'virginica'], dtype='<U10'),\n",
       " 'DESCR': '.. _iris_dataset:\\n\\nIris plants dataset\\n--------------------\\n\\n**Data Set Characteristics:**\\n\\n    :Number of Instances: 150 (50 in each of three classes)\\n    :Number of Attributes: 4 numeric, predictive attributes and the class\\n    :Attribute Information:\\n        - sepal length in cm\\n        - sepal width in cm\\n        - petal length in cm\\n        - petal width in cm\\n        - class:\\n                - Iris-Setosa\\n                - Iris-Versicolour\\n                - Iris-Virginica\\n                \\n    :Summary Statistics:\\n\\n    ============== ==== ==== ======= ===== ====================\\n                    Min  Max   Mean    SD   Class Correlation\\n    ============== ==== ==== ======= ===== ====================\\n    sepal length:   4.3  7.9   5.84   0.83    0.7826\\n    sepal width:    2.0  4.4   3.05   0.43   -0.4194\\n    petal length:   1.0  6.9   3.76   1.76    0.9490  (high!)\\n    petal width:    0.1  2.5   1.20   0.76    0.9565  (high!)\\n    ============== ==== ==== ======= ===== ====================\\n\\n    :Missing Attribute Values: None\\n    :Class Distribution: 33.3% for each of 3 classes.\\n    :Creator: R.A. Fisher\\n    :Donor: Michael Marshall (MARSHALL%PLU@io.arc.nasa.gov)\\n    :Date: July, 1988\\n\\nThe famous Iris database, first used by Sir R.A. Fisher. The dataset is taken\\nfrom Fisher\\'s paper. Note that it\\'s the same as in R, but not as in the UCI\\nMachine Learning Repository, which has two wrong data points.\\n\\nThis is perhaps the best known database to be found in the\\npattern recognition literature.  Fisher\\'s paper is a classic in the field and\\nis referenced frequently to this day.  (See Duda & Hart, for example.)  The\\ndata set contains 3 classes of 50 instances each, where each class refers to a\\ntype of iris plant.  One class is linearly separable from the other 2; the\\nlatter are NOT linearly separable from each other.\\n\\n.. topic:: References\\n\\n   - Fisher, R.A. \"The use of multiple measurements in taxonomic problems\"\\n     Annual Eugenics, 7, Part II, 179-188 (1936); also in \"Contributions to\\n     Mathematical Statistics\" (John Wiley, NY, 1950).\\n   - Duda, R.O., & Hart, P.E. (1973) Pattern Classification and Scene Analysis.\\n     (Q327.D83) John Wiley & Sons.  ISBN 0-471-22361-1.  See page 218.\\n   - Dasarathy, B.V. (1980) \"Nosing Around the Neighborhood: A New System\\n     Structure and Classification Rule for Recognition in Partially Exposed\\n     Environments\".  IEEE Transactions on Pattern Analysis and Machine\\n     Intelligence, Vol. PAMI-2, No. 1, 67-71.\\n   - Gates, G.W. (1972) \"The Reduced Nearest Neighbor Rule\".  IEEE Transactions\\n     on Information Theory, May 1972, 431-433.\\n   - See also: 1988 MLC Proceedings, 54-64.  Cheeseman et al\"s AUTOCLASS II\\n     conceptual clustering system finds 3 classes in the data.\\n   - Many, many more ...',\n",
       " 'feature_names': ['sepal length (cm)',\n",
       "  'sepal width (cm)',\n",
       "  'petal length (cm)',\n",
       "  'petal width (cm)'],\n",
       " 'filename': 'iris.csv',\n",
       " 'data_module': 'sklearn.datasets.data'}"
      ]
     },
     "execution_count": 2,
     "metadata": {},
     "output_type": "execute_result"
    }
   ],
   "source": [
    "## Loading the dataset\n",
    "iris = datasets.load_iris()\n",
    "iris"
   ]
  },
  {
   "cell_type": "code",
   "execution_count": 3,
   "id": "ebfe07de",
   "metadata": {},
   "outputs": [
    {
     "data": {
      "text/html": [
       "<div>\n",
       "<style scoped>\n",
       "    .dataframe tbody tr th:only-of-type {\n",
       "        vertical-align: middle;\n",
       "    }\n",
       "\n",
       "    .dataframe tbody tr th {\n",
       "        vertical-align: top;\n",
       "    }\n",
       "\n",
       "    .dataframe thead th {\n",
       "        text-align: right;\n",
       "    }\n",
       "</style>\n",
       "<table border=\"1\" class=\"dataframe\">\n",
       "  <thead>\n",
       "    <tr style=\"text-align: right;\">\n",
       "      <th></th>\n",
       "      <th>sepal_length</th>\n",
       "      <th>sepal_width</th>\n",
       "      <th>petal_length</th>\n",
       "      <th>petal_width</th>\n",
       "    </tr>\n",
       "  </thead>\n",
       "  <tbody>\n",
       "    <tr>\n",
       "      <th>0</th>\n",
       "      <td>5.1</td>\n",
       "      <td>3.5</td>\n",
       "      <td>1.4</td>\n",
       "      <td>0.2</td>\n",
       "    </tr>\n",
       "    <tr>\n",
       "      <th>1</th>\n",
       "      <td>4.9</td>\n",
       "      <td>3.0</td>\n",
       "      <td>1.4</td>\n",
       "      <td>0.2</td>\n",
       "    </tr>\n",
       "    <tr>\n",
       "      <th>2</th>\n",
       "      <td>4.7</td>\n",
       "      <td>3.2</td>\n",
       "      <td>1.3</td>\n",
       "      <td>0.2</td>\n",
       "    </tr>\n",
       "    <tr>\n",
       "      <th>3</th>\n",
       "      <td>4.6</td>\n",
       "      <td>3.1</td>\n",
       "      <td>1.5</td>\n",
       "      <td>0.2</td>\n",
       "    </tr>\n",
       "    <tr>\n",
       "      <th>4</th>\n",
       "      <td>5.0</td>\n",
       "      <td>3.6</td>\n",
       "      <td>1.4</td>\n",
       "      <td>0.2</td>\n",
       "    </tr>\n",
       "  </tbody>\n",
       "</table>\n",
       "</div>"
      ],
      "text/plain": [
       "   sepal_length  sepal_width  petal_length  petal_width\n",
       "0           5.1          3.5           1.4          0.2\n",
       "1           4.9          3.0           1.4          0.2\n",
       "2           4.7          3.2           1.3          0.2\n",
       "3           4.6          3.1           1.5          0.2\n",
       "4           5.0          3.6           1.4          0.2"
      ]
     },
     "execution_count": 3,
     "metadata": {},
     "output_type": "execute_result"
    }
   ],
   "source": [
    "## Converting features of the data into DataFrame\n",
    "features = pd.DataFrame(iris.data, columns=['sepal_length', 'sepal_width', 'petal_length', 'petal_width'])\n",
    "features.head()"
   ]
  },
  {
   "cell_type": "code",
   "execution_count": 4,
   "id": "8ecc1cdc",
   "metadata": {},
   "outputs": [
    {
     "data": {
      "text/plain": [
       "array([0, 0, 0, 0, 0, 0, 0, 0, 0, 0, 0, 0, 0, 0, 0, 0, 0, 0, 0, 0, 0, 0,\n",
       "       0, 0, 0, 0, 0, 0, 0, 0, 0, 0, 0, 0, 0, 0, 0, 0, 0, 0, 0, 0, 0, 0,\n",
       "       0, 0, 0, 0, 0, 0, 1, 1, 1, 1, 1, 1, 1, 1, 1, 1, 1, 1, 1, 1, 1, 1,\n",
       "       1, 1, 1, 1, 1, 1, 1, 1, 1, 1, 1, 1, 1, 1, 1, 1, 1, 1, 1, 1, 1, 1,\n",
       "       1, 1, 1, 1, 1, 1, 1, 1, 1, 1, 1, 1, 2, 2, 2, 2, 2, 2, 2, 2, 2, 2,\n",
       "       2, 2, 2, 2, 2, 2, 2, 2, 2, 2, 2, 2, 2, 2, 2, 2, 2, 2, 2, 2, 2, 2,\n",
       "       2, 2, 2, 2, 2, 2, 2, 2, 2, 2, 2, 2, 2, 2, 2, 2, 2, 2])"
      ]
     },
     "execution_count": 4,
     "metadata": {},
     "output_type": "execute_result"
    }
   ],
   "source": [
    "## Cecking the target column of the data\n",
    "target = iris.target\n",
    "target"
   ]
  },
  {
   "cell_type": "code",
   "execution_count": 5,
   "id": "05a524ab",
   "metadata": {},
   "outputs": [
    {
     "name": "stdout",
     "output_type": "stream",
     "text": [
      "The min value of sepal_length is: 4.3\n",
      "The max value of sepal_length is: 7.9\n"
     ]
    }
   ],
   "source": [
    "## Checking the min and max values of the sepal_length feature\n",
    "print(f'The min value of sepal_length is: {features.sepal_length.min()}')\n",
    "print(f'The max value of sepal_length is: {features.sepal_length.max()}')"
   ]
  },
  {
   "cell_type": "code",
   "execution_count": 6,
   "id": "f0839d90",
   "metadata": {},
   "outputs": [
    {
     "data": {
      "text/plain": [
       "array([4.3, 4.4, 4.5, 4.6, 4.7, 4.8, 4.9, 5. , 5.1, 5.2, 5.3, 5.4, 5.5,\n",
       "       5.6, 5.7, 5.8, 5.9, 6. , 6.1, 6.2, 6.3, 6.4, 6.5, 6.6, 6.7, 6.8,\n",
       "       6.9, 7. , 7.1, 7.2, 7.3, 7.4, 7.5, 7.6, 7.7, 7.8, 7.9])"
      ]
     },
     "execution_count": 6,
     "metadata": {},
     "output_type": "execute_result"
    }
   ],
   "source": [
    "## Creating an array for new variable sepal_lenght\n",
    "sepal_length = np.arange(4.3, 8.0, 0.1)\n",
    "sepal_length"
   ]
  },
  {
   "cell_type": "code",
   "execution_count": 7,
   "id": "38d15b83",
   "metadata": {},
   "outputs": [
    {
     "name": "stdout",
     "output_type": "stream",
     "text": [
      "The min value of sepal_width is: 2.0\n",
      "The max value of sepal_width is: 4.4\n"
     ]
    }
   ],
   "source": [
    "## Checking the min and max values for the sepal_width feature\n",
    "print(f'The min value of sepal_width is: {features.sepal_width.min()}')\n",
    "print(f'The max value of sepal_width is: {features.sepal_width.max()}')"
   ]
  },
  {
   "cell_type": "code",
   "execution_count": 8,
   "id": "ef01fe7d",
   "metadata": {},
   "outputs": [
    {
     "data": {
      "text/plain": [
       "array([2. , 2.1, 2.2, 2.3, 2.4, 2.5, 2.6, 2.7, 2.8, 2.9, 3. , 3.1, 3.2,\n",
       "       3.3, 3.4, 3.5, 3.6, 3.7, 3.8, 3.9, 4. , 4.1, 4.2, 4.3, 4.4])"
      ]
     },
     "execution_count": 8,
     "metadata": {},
     "output_type": "execute_result"
    }
   ],
   "source": [
    "## Creating an array for the new variable sepal_width\n",
    "sepal_width = np.arange(2.0, 4.5, 0.1)\n",
    "sepal_width"
   ]
  },
  {
   "cell_type": "code",
   "execution_count": 9,
   "id": "271ab461",
   "metadata": {},
   "outputs": [
    {
     "name": "stdout",
     "output_type": "stream",
     "text": [
      "The min value of petal_length is: 1.0\n",
      "The max value of petal_length is: 6.9\n"
     ]
    }
   ],
   "source": [
    "## Checking the min and max values for the petal_lenght feature\n",
    "print(f'The min value of petal_length is: {features.petal_length.min()}')\n",
    "print(f'The max value of petal_length is: {features.petal_length.max()}')"
   ]
  },
  {
   "cell_type": "code",
   "execution_count": 10,
   "id": "c164b63c",
   "metadata": {},
   "outputs": [
    {
     "data": {
      "text/plain": [
       "array([1. , 1.1, 1.2, 1.3, 1.4, 1.5, 1.6, 1.7, 1.8, 1.9, 2. , 2.1, 2.2,\n",
       "       2.3, 2.4, 2.5, 2.6, 2.7, 2.8, 2.9, 3. , 3.1, 3.2, 3.3, 3.4, 3.5,\n",
       "       3.6, 3.7, 3.8, 3.9, 4. , 4.1, 4.2, 4.3, 4.4, 4.5, 4.6, 4.7, 4.8,\n",
       "       4.9, 5. , 5.1, 5.2, 5.3, 5.4, 5.5, 5.6, 5.7, 5.8, 5.9, 6. , 6.1,\n",
       "       6.2, 6.3, 6.4, 6.5, 6.6, 6.7, 6.8, 6.9])"
      ]
     },
     "execution_count": 10,
     "metadata": {},
     "output_type": "execute_result"
    }
   ],
   "source": [
    "## Creating an array for the new variable petal_length\n",
    "petal_length = np.arange(1.0, 7.0, 0.1)\n",
    "petal_length"
   ]
  },
  {
   "cell_type": "code",
   "execution_count": 11,
   "id": "4a2dd597",
   "metadata": {},
   "outputs": [
    {
     "name": "stdout",
     "output_type": "stream",
     "text": [
      "The min value of petal_width is: 0.1\n",
      "The max value of petal_width is: 2.5\n"
     ]
    }
   ],
   "source": [
    "## Checking the min and max values for the petal_width feature\n",
    "print(f'The min value of petal_width is: {features.petal_width.min()}')\n",
    "print(f'The max value of petal_width is: {features.petal_width.max()}')"
   ]
  },
  {
   "cell_type": "code",
   "execution_count": 12,
   "id": "bc316f50",
   "metadata": {},
   "outputs": [
    {
     "data": {
      "text/plain": [
       "array([0.1, 0.2, 0.3, 0.4, 0.5, 0.6, 0.7, 0.8, 0.9, 1. , 1.1, 1.2, 1.3,\n",
       "       1.4, 1.5, 1.6, 1.7, 1.8, 1.9, 2. , 2.1, 2.2, 2.3, 2.4, 2.5])"
      ]
     },
     "execution_count": 12,
     "metadata": {},
     "output_type": "execute_result"
    }
   ],
   "source": [
    "## Creating an array for the new variable petal_width\n",
    "petal_width = np.arange(0.1, 2.6, 0.1)\n",
    "petal_width"
   ]
  },
  {
   "cell_type": "code",
   "execution_count": 13,
   "id": "bdfdc014",
   "metadata": {},
   "outputs": [
    {
     "name": "stdout",
     "output_type": "stream",
     "text": [
      "The min value of target is: 0\n",
      "The max value of target is: 2\n"
     ]
    }
   ],
   "source": [
    "## Cheacking the min and max values for the target\n",
    "print(f'The min value of target is: {target.min()}')\n",
    "print(f'The max value of target is: {target.max()}')"
   ]
  },
  {
   "cell_type": "code",
   "execution_count": 14,
   "id": "8a3731d8",
   "metadata": {},
   "outputs": [
    {
     "data": {
      "text/plain": [
       "array([0, 1, 2])"
      ]
     },
     "execution_count": 14,
     "metadata": {},
     "output_type": "execute_result"
    }
   ],
   "source": [
    "## Creating an array for the new variale label\n",
    "label = np.arange(0,3,1)\n",
    "label"
   ]
  },
  {
   "cell_type": "code",
   "execution_count": 15,
   "id": "a99ee726",
   "metadata": {},
   "outputs": [],
   "source": [
    "## Defining the input and output variables\n",
    "seplen = ctrl.Antecedent(sepal_length, 'seplen')\n",
    "sepwid = ctrl.Antecedent(sepal_width, 'sepwid')\n",
    "petlen = ctrl.Antecedent(petal_length, 'petlen')\n",
    "petwid = ctrl.Antecedent(petal_width, 'petwid')\n",
    "lab = ctrl.Consequent(label, 'lab')"
   ]
  },
  {
   "cell_type": "code",
   "execution_count": 16,
   "id": "1215a8d4",
   "metadata": {},
   "outputs": [],
   "source": [
    "## Creation of Fuzzy sets for each variable\n",
    "seplen.automf(3)\n",
    "sepwid.automf(3)\n",
    "petlen.automf(3)\n",
    "petwid.automf(3)\n",
    "lab.automf(3)"
   ]
  },
  {
   "cell_type": "code",
   "execution_count": 25,
   "id": "8ac63c8d",
   "metadata": {},
   "outputs": [
    {
     "data": {
      "image/png": "[encoded data removed]",
      "text/plain": [
       "<Figure size 432x288 with 1 Axes>"
      ]
     },
     "metadata": {
      "needs_background": "light"
     },
     "output_type": "display_data"
    }
   ],
   "source": [
    "## Membership Function of sepal_length fuzzy sets\n",
    "seplen.view()"
   ]
  },
  {
   "cell_type": "code",
   "execution_count": 18,
   "id": "36306761",
   "metadata": {},
   "outputs": [
    {
     "data": {
      "image/png": "[encoded data removed]",
      "text/plain": [
       "<Figure size 432x288 with 1 Axes>"
      ]
     },
     "metadata": {
      "needs_background": "light"
     },
     "output_type": "display_data"
    }
   ],
   "source": [
    "## Membership Function of sepal_width fuzzy sets\n",
    "sepwid.view()"
   ]
  },
  {
   "cell_type": "code",
   "execution_count": 19,
   "id": "bc525151",
   "metadata": {},
   "outputs": [
    {
     "data": {
      "image/png": "[encoded data removed]",
      "text/plain": [
       "<Figure size 432x288 with 1 Axes>"
      ]
     },
     "metadata": {
      "needs_background": "light"
     },
     "output_type": "display_data"
    }
   ],
   "source": [
    "## Membership Function of petal_length fuzzy sets\n",
    "petlen.view()"
   ]
  },
  {
   "cell_type": "code",
   "execution_count": 20,
   "id": "eeecba75",
   "metadata": {},
   "outputs": [
    {
     "data": {
      "image/png": "[encoded data removed]",
      "text/plain": [
       "<Figure size 432x288 with 1 Axes>"
      ]
     },
     "metadata": {
      "needs_background": "light"
     },
     "output_type": "display_data"
    }
   ],
   "source": [
    "## Membership Function of petal_width fuzzy sets\n",
    "petwid.view()"
   ]
  },
  {
   "cell_type": "code",
   "execution_count": 21,
   "id": "fb73d950",
   "metadata": {},
   "outputs": [
    {
     "data": {
      "image/png": "[encoded data removed]",
      "text/plain": [
       "<Figure size 432x288 with 1 Axes>"
      ]
     },
     "metadata": {
      "needs_background": "light"
     },
     "output_type": "display_data"
    }
   ],
   "source": [
    "## Membership Function of label fuzzysets\n",
    "lab.view()"
   ]
  },
  {
   "cell_type": "code",
   "execution_count": 27,
   "id": "b76d95d3",
   "metadata": {},
   "outputs": [],
   "source": [
    "## Rule Base Definition\n",
    "Rule1 = ctrl.Rule(seplen['poor'] & sepwid['good'] & petlen['poor'] & petwid['poor'], lab['poor'])\n",
    "Rule2 = ctrl.Rule(seplen['poor'] & sepwid['good'] & petlen['average'] & petwid['average'], lab['average'])\n",
    "Rule3 = ctrl.Rule(seplen['poor'] & sepwid['poor'] & petlen['poor'] & petwid['poor'], lab['poor'])\n",
    "Rule4 = ctrl.Rule(seplen['poor'] & sepwid['poor'] & petlen['average'] & petwid['average'], lab['average'])\n",
    "Rule5 = ctrl.Rule(seplen['poor'] & sepwid['average'] & petlen['poor'] & petwid['poor'], lab['poor'])\n",
    "Rule6 = ctrl.Rule(seplen['poor'] & sepwid['good'] & petlen['good'] & petwid['good'], lab['average'])\n",
    "Rule7 = ctrl.Rule(seplen['poor'] & sepwid['average'] & petlen['good'] & petwid['good'], lab['good'])\n",
    "Rule8 = ctrl.Rule(seplen['poor'] & sepwid['poor'] & petlen['good'] & petwid['good'], lab['good'])\n",
    "Rule9 = ctrl.Rule(seplen['poor'] & sepwid['average'] & petlen['average'] & petwid['good'], lab['good'])\n",
    "Rule10 = ctrl.Rule(seplen['poor'] & sepwid['average'] & petlen['good'] & petwid['average'], lab['good'])\n",
    "Rule11 = ctrl.Rule(seplen['poor'] & sepwid['poor'] & petlen['average'] & petwid['good'], lab['average'])\n",
    "Rule12 = ctrl.Rule(seplen['poor'] & sepwid['poor'] & petlen['good'] & petwid['average'], lab['average'])\n",
    "Rule13 = ctrl.Rule(seplen['poor'] & sepwid['average'] & petlen['average'] & petwid['average'], lab['average'])\n",
    "Rule14 = ctrl.Rule(seplen['poor'] & sepwid['good'] & petlen['average'] & petwid['good'], lab['average'])\n",
    "Rule15 = ctrl.Rule(seplen['poor'] & sepwid['good'] & petlen['good'] & petwid['average'], lab['average'])\n",
    "Rule16 = ctrl.Rule(seplen['average'] & sepwid['good'] & petlen['poor'] & petwid['poor'], lab['poor'])\n",
    "Rule17 = ctrl.Rule(seplen['average'] & sepwid['good'] & petlen['average'] & petwid['average'], lab['average'])\n",
    "Rule18 = ctrl.Rule(seplen['average'] & sepwid['poor'] & petlen['poor'] & petwid['poor'], lab['poor'])\n",
    "Rule19 = ctrl.Rule(seplen['good'] & sepwid['good'] & petlen['poor'] & petwid['poor'], lab['poor'])\n",
    "Rule20 = ctrl.Rule(seplen['good'] & sepwid['average'] & petlen['poor'] & petwid['poor'], lab['poor'])\n",
    "Rule21 = ctrl.Rule(seplen['good'] & sepwid['good'] & petlen['good'] & petwid['good'], lab['good'])\n",
    "Rule22 = ctrl.Rule(seplen['good'] & sepwid['average'] & petlen['average'] & petwid['average'], lab['average'])\n",
    "Rule23 = ctrl.Rule(seplen['good'] & sepwid['average'] & petlen['good'] & petwid['average'], lab['good'])\n",
    "Rule24 = ctrl.Rule(seplen['average'] & sepwid['poor'] & petlen['average'] & petwid['average'], lab['average'])\n",
    "Rule25 = ctrl.Rule(seplen['good'] & sepwid['average'] & petlen['good'] & petwid['good'], lab['good'])\n",
    "Rule26 = ctrl.Rule(seplen['average'] & sepwid['poor'] & petlen['average'] & petwid['good'], lab['average'])\n",
    "Rule27 = ctrl.Rule(seplen['average'] & sepwid['poor'] & petlen['good'] & petwid['average'], lab['average'])\n",
    "Rule28 = ctrl.Rule(seplen['average'] & sepwid['average'] & petlen['average'] & petwid['average'], lab['average'])\n",
    "Rule29 = ctrl.Rule(seplen['good'] & sepwid['poor'] & petlen['average'] & petwid['average'], lab['average'])\n",
    "Rule30 = ctrl.Rule(seplen['average'] & sepwid['poor'] & petlen['good'] & petwid['good'], lab['good'])\n",
    "Rule31 = ctrl.Rule(seplen['average'] & sepwid['average'] & petlen['good'] & petwid['average'], lab['good'])\n",
    "Rule32 = ctrl.Rule(seplen['average'] & sepwid['average'] & petlen['average'] & petwid['good'], lab['average'])\n",
    "Rule33 = ctrl.Rule(seplen['good'] & sepwid['poor'] & petlen['good'] & petwid['average'], lab['good'])\n",
    "Rule34 = ctrl.Rule(seplen['good'] & sepwid['poor'] & petlen['average'] & petwid['good'], lab['good'])\n",
    "Rule35 = ctrl.Rule(seplen['average'] & sepwid['average'] & petlen['good'] & petwid['good'], lab['good'])\n",
    "Rule36 = ctrl.Rule(seplen['good'] & sepwid['poor'] & petlen['good'] & petwid['good'], lab['good'])\n",
    "Rule37 = ctrl.Rule(seplen['good'] & sepwid['average'] & petlen['average'] & petwid['good'], lab['average'])\n",
    "Rule38 = ctrl.Rule(seplen['average'] & sepwid['good'] & petlen['good'] & petwid['good'], lab['good'])\n",
    "Rule39 = ctrl.Rule(seplen['good'] & sepwid['good'] & petlen['average'] & petwid['good'], lab['average'])\n",
    "Rule40 = ctrl.Rule(seplen['good'] & sepwid['good'] & petlen['good'] & petwid['average'], lab['good'])\n",
    "Rule41 = ctrl.Rule(seplen['good'] & sepwid['good'] & petlen['average'] & petwid['average'], lab['average'])\n",
    "Rule42 = ctrl.Rule(seplen['average'] & sepwid['good'] & petlen['good'] & petwid['average'], lab['average'])\n",
    "Rule43 = ctrl.Rule(seplen['average'] & sepwid['average'] & petlen['poor'] & petwid['poor'], lab['poor'])\n",
    "Rule44 = ctrl.Rule(seplen['good'] & sepwid['poor'] & petlen['poor'] & petwid['poor'], lab['poor'])"
   ]
  },
  {
   "cell_type": "code",
   "execution_count": 28,
   "id": "81e6bbb4",
   "metadata": {},
   "outputs": [],
   "source": [
    "## Fitting the Rules in the system\n",
    "lab_ctrl = ctrl.ControlSystem([Rule1,Rule2,Rule3,Rule4,Rule5,Rule6,Rule7,Rule8,Rule9,Rule10,Rule11,Rule12,Rule13,Rule14,\n",
    "                               Rule15,Rule16,Rule17,Rule18,Rule19,Rule20,Rule21,Rule22,Rule23,Rule24,Rule25,Rule26,Rule27,\n",
    "                               Rule28,Rule29,Rule30,Rule31,Rule32,Rule33,Rule34,Rule35,Rule36,Rule37,Rule38,Rule39,\n",
    "                               Rule40,Rule41,Rule42,Rule43,Rule44])"
   ]
  },
  {
   "cell_type": "code",
   "execution_count": 29,
   "id": "f7239c36",
   "metadata": {},
   "outputs": [],
   "source": [
    "## Fitting the logic model\n",
    "detect_lab = ctrl.ControlSystemSimulation(lab_ctrl)"
   ]
  },
  {
   "cell_type": "code",
   "execution_count": 30,
   "id": "e804af12",
   "metadata": {},
   "outputs": [],
   "source": [
    "## Performing the test with single element\n",
    "detect_lab.input['seplen'] = 5.1\n",
    "detect_lab.input['sepwid'] = 3.5\n",
    "detect_lab.input['petlen'] = 1.4\n",
    "detect_lab.input['petwid'] = 0.2\n",
    "detect_lab.compute()"
   ]
  },
  {
   "cell_type": "code",
   "execution_count": 31,
   "id": "30d9d24d",
   "metadata": {},
   "outputs": [
    {
     "data": {
      "text/plain": [
       "0.5732310351667662"
      ]
     },
     "execution_count": 31,
     "metadata": {},
     "output_type": "execute_result"
    }
   ],
   "source": [
    "## Checking the output\n",
    "detect_lab.output['lab']"
   ]
  },
  {
   "cell_type": "code",
   "execution_count": 32,
   "id": "b464c70b",
   "metadata": {},
   "outputs": [
    {
     "data": {
      "image/png": "[encoded data removed]",
      "text/plain": [
       "<Figure size 432x288 with 1 Axes>"
      ]
     },
     "metadata": {
      "needs_background": "light"
     },
     "output_type": "display_data"
    }
   ],
   "source": [
    "lab.view(sim=detect_lab)"
   ]
  },
  {
   "cell_type": "code",
   "execution_count": 33,
   "id": "37351dea",
   "metadata": {},
   "outputs": [],
   "source": [
    "## Notebook Ended\n",
    "## Notebook Ended\n",
    "## Notebook Ended \n",
    "## Notebook Ended\n",
    "## Notebook Ended"
   ]
  },
  {
   "cell_type": "code",
   "execution_count": null,
   "id": "22e412ad",
   "metadata": {},
   "outputs": [],
   "source": []
  }
 ],
 "metadata": {
  "kernelspec": {
   "display_name": "Python 3 (ipykernel)",
   "language": "python",
   "name": "python3"
  },
  "language_info": {
   "codemirror_mode": {
    "name": "ipython",
    "version": 3
   },
   "file_extension": ".py",
   "mimetype": "text/x-python",
   "name": "python",
   "nbconvert_exporter": "python",
   "pygments_lexer": "ipython3",
   "version": "3.9.7"
  }
 },
 "nbformat": 4,
 "nbformat_minor": 5
}
